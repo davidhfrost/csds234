{
 "cells": [
  {
   "cell_type": "code",
   "execution_count": 6,
   "id": "initial_id",
   "metadata": {
    "collapsed": true,
    "ExecuteTime": {
     "end_time": "2023-11-18T19:54:15.867879Z",
     "start_time": "2023-11-18T19:54:15.852946Z"
    }
   },
   "outputs": [
    {
     "data": {
      "text/plain": "       video ID         uploader  age         category  length    views  rate  \\\n0   LKh7zAJ4nwo  TheReceptionist  653    Entertainment     424    13021  4.34   \n1   7D0Mf4Kn4Xk        periurban  583            Music     201     6508  4.19   \n2   n1cEq1C8oqQ      Pipistrello  525           Comedy     125     1687  4.01   \n3   OHkEzL4Unck         ichannel  638           Comedy     299     8043  4.40   \n4   -boOvAGNKUc    mrpitifulband  639            Music     287     7548  4.48   \n..          ...              ...  ...              ...     ...      ...   ...   \n95  MNxwAU_xAMk         j0sealan  538           Comedy     140  7066676  4.56   \n96  RUCZJVJ_M8o        markleung  337    Entertainment      11  6952767  4.21   \n97  HSEnYYpE_V8           boh3m3  736  News & Politics     571     6677  4.72   \n98  FM1KUDE3C3k          renetto  736  News & Politics    1063     9062  4.57   \n99  Fpr5d5jdJMs        Zipster08  736   People & Blogs     148     4404  4.94   \n\n    ratings  comments  related IDs  \n0      1305       744  DjdA-5oKYFQ  \n1       687       312  e2k0h6tPvGc  \n2       363       141  eprHhmurMHg  \n3       518       371  eyUSTmEUQRg  \n4       606       386  fmUwUURgsX0  \n..      ...       ...          ...  \n95    14786      7302  MNxwAU_xAMk  \n96    13932      2558  RUCZJVJ_M8o  \n97      522       325  HNcsMlhQdIs  \n98      525       488  LnMvSxl0o0A  \n99      371       557  5d0BLh60v10  \n\n[100 rows x 10 columns]",
      "text/html": "<div>\n<style scoped>\n    .dataframe tbody tr th:only-of-type {\n        vertical-align: middle;\n    }\n\n    .dataframe tbody tr th {\n        vertical-align: top;\n    }\n\n    .dataframe thead th {\n        text-align: right;\n    }\n</style>\n<table border=\"1\" class=\"dataframe\">\n  <thead>\n    <tr style=\"text-align: right;\">\n      <th></th>\n      <th>video ID</th>\n      <th>uploader</th>\n      <th>age</th>\n      <th>category</th>\n      <th>length</th>\n      <th>views</th>\n      <th>rate</th>\n      <th>ratings</th>\n      <th>comments</th>\n      <th>related IDs</th>\n    </tr>\n  </thead>\n  <tbody>\n    <tr>\n      <th>0</th>\n      <td>LKh7zAJ4nwo</td>\n      <td>TheReceptionist</td>\n      <td>653</td>\n      <td>Entertainment</td>\n      <td>424</td>\n      <td>13021</td>\n      <td>4.34</td>\n      <td>1305</td>\n      <td>744</td>\n      <td>DjdA-5oKYFQ</td>\n    </tr>\n    <tr>\n      <th>1</th>\n      <td>7D0Mf4Kn4Xk</td>\n      <td>periurban</td>\n      <td>583</td>\n      <td>Music</td>\n      <td>201</td>\n      <td>6508</td>\n      <td>4.19</td>\n      <td>687</td>\n      <td>312</td>\n      <td>e2k0h6tPvGc</td>\n    </tr>\n    <tr>\n      <th>2</th>\n      <td>n1cEq1C8oqQ</td>\n      <td>Pipistrello</td>\n      <td>525</td>\n      <td>Comedy</td>\n      <td>125</td>\n      <td>1687</td>\n      <td>4.01</td>\n      <td>363</td>\n      <td>141</td>\n      <td>eprHhmurMHg</td>\n    </tr>\n    <tr>\n      <th>3</th>\n      <td>OHkEzL4Unck</td>\n      <td>ichannel</td>\n      <td>638</td>\n      <td>Comedy</td>\n      <td>299</td>\n      <td>8043</td>\n      <td>4.40</td>\n      <td>518</td>\n      <td>371</td>\n      <td>eyUSTmEUQRg</td>\n    </tr>\n    <tr>\n      <th>4</th>\n      <td>-boOvAGNKUc</td>\n      <td>mrpitifulband</td>\n      <td>639</td>\n      <td>Music</td>\n      <td>287</td>\n      <td>7548</td>\n      <td>4.48</td>\n      <td>606</td>\n      <td>386</td>\n      <td>fmUwUURgsX0</td>\n    </tr>\n    <tr>\n      <th>...</th>\n      <td>...</td>\n      <td>...</td>\n      <td>...</td>\n      <td>...</td>\n      <td>...</td>\n      <td>...</td>\n      <td>...</td>\n      <td>...</td>\n      <td>...</td>\n      <td>...</td>\n    </tr>\n    <tr>\n      <th>95</th>\n      <td>MNxwAU_xAMk</td>\n      <td>j0sealan</td>\n      <td>538</td>\n      <td>Comedy</td>\n      <td>140</td>\n      <td>7066676</td>\n      <td>4.56</td>\n      <td>14786</td>\n      <td>7302</td>\n      <td>MNxwAU_xAMk</td>\n    </tr>\n    <tr>\n      <th>96</th>\n      <td>RUCZJVJ_M8o</td>\n      <td>markleung</td>\n      <td>337</td>\n      <td>Entertainment</td>\n      <td>11</td>\n      <td>6952767</td>\n      <td>4.21</td>\n      <td>13932</td>\n      <td>2558</td>\n      <td>RUCZJVJ_M8o</td>\n    </tr>\n    <tr>\n      <th>97</th>\n      <td>HSEnYYpE_V8</td>\n      <td>boh3m3</td>\n      <td>736</td>\n      <td>News &amp; Politics</td>\n      <td>571</td>\n      <td>6677</td>\n      <td>4.72</td>\n      <td>522</td>\n      <td>325</td>\n      <td>HNcsMlhQdIs</td>\n    </tr>\n    <tr>\n      <th>98</th>\n      <td>FM1KUDE3C3k</td>\n      <td>renetto</td>\n      <td>736</td>\n      <td>News &amp; Politics</td>\n      <td>1063</td>\n      <td>9062</td>\n      <td>4.57</td>\n      <td>525</td>\n      <td>488</td>\n      <td>LnMvSxl0o0A</td>\n    </tr>\n    <tr>\n      <th>99</th>\n      <td>Fpr5d5jdJMs</td>\n      <td>Zipster08</td>\n      <td>736</td>\n      <td>People &amp; Blogs</td>\n      <td>148</td>\n      <td>4404</td>\n      <td>4.94</td>\n      <td>371</td>\n      <td>557</td>\n      <td>5d0BLh60v10</td>\n    </tr>\n  </tbody>\n</table>\n<p>100 rows × 10 columns</p>\n</div>"
     },
     "execution_count": 6,
     "metadata": {},
     "output_type": "execute_result"
    }
   ],
   "source": [
    "import pandas as pd\n",
    "#names=[\"video ID\", \"uploader\", \"age\", \"category\", \"length\", \"views\", \"rate\", \"ratings\", \"comments\", \"related IDs\"]\n",
    "\n",
    "df = pd.read_csv(\"Data/0.txt\", usecols=[0, 1, 2, 3, 4, 5, 6, 7, 8, 9], names=[\"video ID\", \"uploader\", \"age\", \"category\", \"length\", \"views\", \"rate\", \"ratings\", \"comments\", \"related IDs\"], sep=\"\\t\", header=None)\n",
    "\n",
    "\n",
    "df.head(100)"
   ]
  },
  {
   "cell_type": "code",
   "execution_count": 6,
   "outputs": [],
   "source": [],
   "metadata": {
    "collapsed": false,
    "ExecuteTime": {
     "end_time": "2023-11-18T19:54:15.871517Z",
     "start_time": "2023-11-18T19:54:15.866455Z"
    }
   },
   "id": "428ee28ff89a832c"
  }
 ],
 "metadata": {
  "kernelspec": {
   "display_name": "Python 3",
   "language": "python",
   "name": "python3"
  },
  "language_info": {
   "codemirror_mode": {
    "name": "ipython",
    "version": 2
   },
   "file_extension": ".py",
   "mimetype": "text/x-python",
   "name": "python",
   "nbconvert_exporter": "python",
   "pygments_lexer": "ipython2",
   "version": "2.7.6"
  }
 },
 "nbformat": 4,
 "nbformat_minor": 5
}
